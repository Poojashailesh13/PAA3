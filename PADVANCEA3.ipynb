{
 "cells": [
  {
   "cell_type": "raw",
   "id": "c85eec9c",
   "metadata": {},
   "source": [
    "1. What is the concept of an abstract superclass?\n",
    "ans- A class is called an Abstract class if it contains one or more abstract methods. An abstract method is a method that is declared, but contains no implementation. Abstract classes may not be instantiated, and its abstract methods must be implemented by its subclasses."
   ]
  },
  {
   "cell_type": "raw",
   "id": "8d382d81",
   "metadata": {},
   "source": [
    "2. What happens when a class statements top level contains a basic assignment statement?\n",
    "ans-class Cls:\n",
    "    x = 3             # class variable\n",
    "inst = Cls()\n",
    "inst.x = inst.x + 1\n",
    " If the object is a class instance and the attribute reference occurs on both sides of the assignment operator, the right-hand side expression, a.x can access either an instance attribute or (if no instance attribute exists) a class attribute. The left-hand side target a.x is always set as an instance attribute, creating it if necessary. Thus, the two occurrences of a.x do not necessarily refer to the same attribute: if the right-hand side expression refers to a class attribute, the left-hand side creates a new instance attribute as the target of the assignment:"
   ]
  },
  {
   "cell_type": "raw",
   "id": "a55760b5",
   "metadata": {},
   "source": [
    "3. Why does a class need to manually call a superclass&#39;s __init__ method?\n",
    "ans- The main reason for always calling base class _init__ is that base class may typically create member variable and initialize them to defaults. So if you don't call base class init, none of that code would be executed and you would end up with base class that has no member variables. "
   ]
  },
  {
   "cell_type": "raw",
   "id": "12ba1aee",
   "metadata": {},
   "source": [
    "4. How can you augment, instead of completely replacing, an inherited method?\n",
    "ans-  The good way to do that in Python is by calling to the original version directly, with augmented arguments, like this:\n",
    "\n",
    "class Manager(Person):\n",
    "\n",
    "def giveRaise(self, percent, bonus=.10):\n",
    "\n",
    "Person.giveRaise(self, percent + bonus) # Good: augment original"
   ]
  },
  {
   "cell_type": "raw",
   "id": "d09fd6e4",
   "metadata": {},
   "source": [
    "5. How is the local scope of a class different from that of a function?\n",
    "ans- local (or function) scope is the code block or body of any Python function or lambda expression. This Python scope contains the names that you define inside the function. These names will only be visible from the code of the function.\n",
    "in computer programming, a function is a named section of a code that performs a specific task. This typically involves taking some input, manipulating the input and returning an output."
   ]
  }
 ],
 "metadata": {
  "kernelspec": {
   "display_name": "Python 3 (ipykernel)",
   "language": "python",
   "name": "python3"
  },
  "language_info": {
   "codemirror_mode": {
    "name": "ipython",
    "version": 3
   },
   "file_extension": ".py",
   "mimetype": "text/x-python",
   "name": "python",
   "nbconvert_exporter": "python",
   "pygments_lexer": "ipython3",
   "version": "3.9.7"
  }
 },
 "nbformat": 4,
 "nbformat_minor": 5
}
